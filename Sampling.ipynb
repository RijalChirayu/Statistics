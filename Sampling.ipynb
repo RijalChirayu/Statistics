{
 "cells": [
  {
   "cell_type": "markdown",
   "metadata": {},
   "source": [
    "## Random Sampling and Sample Bias\n",
    "<pre>\n",
    "A sample is a subset of data from a larger dataset.\n",
    "Random sampling is a process in which each available \n",
    "observation of population to be sampled has an equal\n",
    "chance of being chosen for the sample at each draw. \n",
    "Thus simple random sample.\n",
    "Sampling is of two types: \n",
    "<ol>\n",
    "<li>Sampling with replacement</li>\n",
    "<li>Sampling without replacement</li>\n",
    "</ol>\n",
    "Sample bias is reffered as the systematic error occured during sampling. \n",
    "Eg: If the sample is not randomly selected then the\n",
    " sample results are prone to error due to bias.\n",
    "</pre>"
   ]
  },
  {
   "cell_type": "markdown",
   "metadata": {},
   "source": [
    "## Sampling Distribution of a Statistic\n",
    "<pre>\n",
    "Sampling distribution of a statistic refers to the distribution of some sample statistic over many\n",
    "samples drawn from the same population.\n",
    "We are mostly concerned with making inferences from \n",
    "(small) samples to (very large )population.\n",
    "</pre>"
   ]
  },
  {
   "cell_type": "code",
   "execution_count": 1,
   "metadata": {},
   "outputs": [],
   "source": [
    "import pandas as pd \n",
    "import seaborn as sns"
   ]
  },
  {
   "cell_type": "code",
   "execution_count": 29,
   "metadata": {},
   "outputs": [],
   "source": [
    "sns.set_style(\"whitegrid\")"
   ]
  },
  {
   "cell_type": "code",
   "execution_count": 24,
   "metadata": {},
   "outputs": [],
   "source": [
    "import matplotlib.pyplot as plt"
   ]
  },
  {
   "cell_type": "code",
   "execution_count": 2,
   "metadata": {},
   "outputs": [
    {
     "data": {
      "text/html": [
       "<div>\n",
       "<style scoped>\n",
       "    .dataframe tbody tr th:only-of-type {\n",
       "        vertical-align: middle;\n",
       "    }\n",
       "\n",
       "    .dataframe tbody tr th {\n",
       "        vertical-align: top;\n",
       "    }\n",
       "\n",
       "    .dataframe thead th {\n",
       "        text-align: right;\n",
       "    }\n",
       "</style>\n",
       "<table border=\"1\" class=\"dataframe\">\n",
       "  <thead>\n",
       "    <tr style=\"text-align: right;\">\n",
       "      <th></th>\n",
       "      <th>x</th>\n",
       "    </tr>\n",
       "  </thead>\n",
       "  <tbody>\n",
       "    <tr>\n",
       "      <th>44228</th>\n",
       "      <td>109000</td>\n",
       "    </tr>\n",
       "    <tr>\n",
       "      <th>38571</th>\n",
       "      <td>105000</td>\n",
       "    </tr>\n",
       "    <tr>\n",
       "      <th>42051</th>\n",
       "      <td>114000</td>\n",
       "    </tr>\n",
       "    <tr>\n",
       "      <th>29738</th>\n",
       "      <td>187000</td>\n",
       "    </tr>\n",
       "    <tr>\n",
       "      <th>203</th>\n",
       "      <td>52000</td>\n",
       "    </tr>\n",
       "  </tbody>\n",
       "</table>\n",
       "</div>"
      ],
      "text/plain": [
       "            x\n",
       "44228  109000\n",
       "38571  105000\n",
       "42051  114000\n",
       "29738  187000\n",
       "203     52000"
      ]
     },
     "execution_count": 2,
     "metadata": {},
     "output_type": "execute_result"
    }
   ],
   "source": [
    "loans_income = pd.read_csv(\"data/loans_income.csv\")\n",
    "loans_income.sample(5)"
   ]
  },
  {
   "cell_type": "code",
   "execution_count": 14,
   "metadata": {},
   "outputs": [
    {
     "data": {
      "text/plain": [
       "['chirayu',\n",
       " 'chirayu',\n",
       " 'chirayu',\n",
       " 'chirayu',\n",
       " 'chirayu',\n",
       " 'chirayu',\n",
       " 'chirayu',\n",
       " 'chirayu',\n",
       " 'chirayu',\n",
       " 'chirayu']"
      ]
     },
     "execution_count": 14,
     "metadata": {},
     "output_type": "execute_result"
    }
   ],
   "source": [
    "([\"chirayu\" ]* 10)"
   ]
  },
  {
   "cell_type": "code",
   "execution_count": 27,
   "metadata": {},
   "outputs": [
    {
     "data": {
      "text/plain": [
       "array([70000, 48000, 32000, 62000, 58000], dtype=int64)"
      ]
     },
     "execution_count": 27,
     "metadata": {},
     "output_type": "execute_result"
    }
   ],
   "source": [
    "loans_income.squeeze().sample(5).values"
   ]
  },
  {
   "cell_type": "code",
   "execution_count": 38,
   "metadata": {},
   "outputs": [
    {
     "data": {
      "text/html": [
       "<div>\n",
       "<style scoped>\n",
       "    .dataframe tbody tr th:only-of-type {\n",
       "        vertical-align: middle;\n",
       "    }\n",
       "\n",
       "    .dataframe tbody tr th {\n",
       "        vertical-align: top;\n",
       "    }\n",
       "\n",
       "    .dataframe thead th {\n",
       "        text-align: right;\n",
       "    }\n",
       "</style>\n",
       "<table border=\"1\" class=\"dataframe\">\n",
       "  <thead>\n",
       "    <tr style=\"text-align: right;\">\n",
       "      <th></th>\n",
       "      <th>income</th>\n",
       "      <th>type</th>\n",
       "    </tr>\n",
       "  </thead>\n",
       "  <tbody>\n",
       "    <tr>\n",
       "      <th>0</th>\n",
       "      <td>28000.0</td>\n",
       "      <td>Population</td>\n",
       "    </tr>\n",
       "    <tr>\n",
       "      <th>1</th>\n",
       "      <td>45000.0</td>\n",
       "      <td>Population</td>\n",
       "    </tr>\n",
       "    <tr>\n",
       "      <th>2</th>\n",
       "      <td>101000.0</td>\n",
       "      <td>Population</td>\n",
       "    </tr>\n",
       "    <tr>\n",
       "      <th>3</th>\n",
       "      <td>28000.0</td>\n",
       "      <td>Population</td>\n",
       "    </tr>\n",
       "    <tr>\n",
       "      <th>4</th>\n",
       "      <td>55000.0</td>\n",
       "      <td>Population</td>\n",
       "    </tr>\n",
       "  </tbody>\n",
       "</table>\n",
       "</div>"
      ],
      "text/plain": [
       "     income        type\n",
       "0   28000.0  Population\n",
       "1   45000.0  Population\n",
       "2  101000.0  Population\n",
       "3   28000.0  Population\n",
       "4   55000.0  Population"
      ]
     },
     "execution_count": 38,
     "metadata": {},
     "output_type": "execute_result"
    }
   ],
   "source": [
    "index = pd.Index(range(1000))\n",
    "sample_data = pd.DataFrame({\n",
    "    \"income\": loans_income.squeeze().sample(1000).values, \n",
    "    \"type\": [\"Population\"]* 1000\n",
    "} , index= index)\n",
    "sample_mean_5 = pd.DataFrame({\n",
    "    \"income\": [loans_income.squeeze().sample(5).values.mean() for _ in range(1000)],\n",
    "    \"type\": [\"Mean of 5 sample size\"] * 1000\n",
    "} , index = index)\n",
    "sample_mean_20 = pd.DataFrame({\n",
    "    \"income\": [loans_income.squeeze().sample(20).values.mean() for _ in range(1000)] , \n",
    "    \"type\": [\"Mean of 20 sample size\"] * 1000\n",
    "} , index = index)\n",
    "results = pd.concat([sample_data , sample_mean_5 , sample_mean_20])\n",
    "results.head(5)"
   ]
  },
  {
   "cell_type": "code",
   "execution_count": 41,
   "metadata": {},
   "outputs": [
    {
     "data": {
      "image/png": "[encoded data removed]",
      "text/plain": [
       "<Figure size 400x600 with 3 Axes>"
      ]
     },
     "metadata": {},
     "output_type": "display_data"
    }
   ],
   "source": [
    "g = sns.FacetGrid(results , col = \"type\"  , col_wrap=1 , height= 2 , \n",
    "                  aspect = 2 )\n",
    "g.map(plt.hist, \"income\" , range= [0 , 200000] , bins = 40)\n",
    "g.set_axis_labels(\"Income\" , \"Count\")\n",
    "g.set_titles(\"{col_name}\")\n",
    "plt.suptitle(\"Mean Sample statistic tends towards normal distribution \")\n",
    "plt.tight_layout()"
   ]
  },
  {
   "cell_type": "markdown",
   "metadata": {},
   "source": [
    "## Central limit theorem\n",
    "<pre>\n",
    "In above figure, the sample statistic will tend to follow normal distribution although the population is not normal.\n",
    "This phenomenon is called central limit theorem.\n",
    "</pre>"
   ]
  },
  {
   "attachments": {
    "image.png": {
     "image/png": "[encoded data removed]"
    }
   },
   "cell_type": "markdown",
   "metadata": {},
   "source": [
    "## Standard Error\n",
    "<pre>\n",
    "The variability in the sampling distribution for a statistic.\n",
    "Can be calculated using standard deviation s of the sample values and sample size n:\n",
    "</pre>\n",
    "![image.png](attachment:image.png)\n"
   ]
  },
  {
   "cell_type": "markdown",
   "metadata": {},
   "source": [
    "## Bootstrap\n"
   ]
  }
 ],
 "metadata": {
  "kernelspec": {
   "display_name": "Python 3",
   "language": "python",
   "name": "python3"
  },
  "language_info": {
   "codemirror_mode": {
    "name": "ipython",
    "version": 3
   },
   "file_extension": ".py",
   "mimetype": "text/x-python",
   "name": "python",
   "nbconvert_exporter": "python",
   "pygments_lexer": "ipython3",
   "version": "3.11.5"
  }
 },
 "nbformat": 4,
 "nbformat_minor": 2
}
